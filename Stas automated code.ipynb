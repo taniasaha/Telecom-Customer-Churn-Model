{
 "cells": [
  {
   "cell_type": "code",
   "execution_count": null,
   "metadata": {},
   "outputs": [],
   "source": [
    "# def KS(data, variable, n, bins_var, good_label, ):\n",
    "#     churn=[]\n",
    "#     non_churn=[]\n",
    "#     for i in bins_var:\n",
    "#         good.append((telecom[(variable>=i[0]) \n",
    "#                               & (variable<= i[1])]['Churn']==good_label).sum())\n",
    "#         bad.append((telecom[(variable>=i[0]) \n",
    "#                               & (variable <= i[1])]['Churn']!=good_label).sum())\n",
    "#     woe=pd.DataFrame({\"Bins\": bins_var,'Good': good, 'Bad':bad})\n",
    "    \n",
    "#     woe['Cum_good']=woe['Good'].cumsum()\n",
    "#     woe['Cum_bad']=woe['Bad'].cumsum()\n",
    "#     woe['%Cum_good']=woe['Cum_good'].apply(lambda x: x/woe['Good'].sum())\n",
    "#     woe['%Cum_bad']=woe['Cum_bad'].apply(lambda x: x/woe['Bad'].sum())\n",
    "#     woe['WOE']=ln(woe['%Cum_good']-woe['%Cum_bad']\n",
    "#     return woe"
   ]
  },
  {
   "cell_type": "code",
   "execution_count": null,
   "metadata": {},
   "outputs": [],
   "source": [
    "def is_monotonic(x):\n",
    "    dx = np.diff(x)\n",
    "    return np.all(dx <= 0) or np.all(dx >= 0)\n",
    "\n",
    "\n",
    "def bins(data,variable, n):\n",
    "    bins=np.linspace(data[variable].min(), data[variable].max(),n+1)\n",
    "    ls=[]\n",
    "    for i in range(0,n):\n",
    "        ls.append((bins[i],bins[i+1]))\n",
    "    return pd.Series(ls)    \n",
    "\n",
    "def weight_of_evidence(data, variable,target, bins_var,good_label):\n",
    "    good=[]\n",
    "    bad=[]\n",
    "    for i in bins_var:\n",
    "        good.append((data[(data[variable]>=i[0]) \n",
    "                              & (data[variable]<= i[1])][str(target)]==good_label).sum())\n",
    "        bad.append((data[(data[variable]>=i[0]) \n",
    "                              & (data[variable] <= i[1])][str(target)]!=good_label).sum())\n",
    "    woe=pd.DataFrame({\"Bins\": bins_var,'Good': good, 'Bad':bad})\n",
    "    \n",
    "    woe['WOE']=np.log(woe['Good'])-np.log(woe['Bad'])\n",
    "    woe['Info_value']=woe['WOE']*((woe['Good']/woe['Good'].sum())-(woe['Bad']/woe['Bad'].sum()))\n",
    "    print(\"Information Value for {} is {}\".format(variable, woe['Info_value'].sum()))\n",
    "    print('WOE is monotonic:', is_monotonic(woe['WOE']))\n",
    "    return woe\n",
    "\n",
    "\n",
    "# UDF for calculating vif value\n",
    "def vif_cal(input_data, dependent_col):\n",
    "    vif_df = pd.DataFrame( columns = ['Var', 'Vif'])\n",
    "    x_vars=input_data.drop([dependent_col], axis=1)\n",
    "    xvar_names=x_vars.columns\n",
    "    for i in range(0,xvar_names.shape[0]):\n",
    "        y=x_vars[xvar_names[i]] \n",
    "        x=x_vars[xvar_names.drop(xvar_names[i])]\n",
    "        rsq=sm.OLS(y,x).fit().rsquared  \n",
    "        vif=round(1/(1-rsq),2)\n",
    "        vif_df.loc[i] = [xvar_names[i], vif]\n",
    "    return vif_df.sort_values(by = 'Vif', axis=0, ascending=False, inplace=False)"
   ]
  },
  {
   "cell_type": "code",
   "execution_count": 1,
   "metadata": {},
   "outputs": [],
   "source": [
    "def draw_roc( actual, probs ):\n",
    "    fpr, tpr, thresholds = metrics.roc_curve( actual, probs,\n",
    "                                              drop_intermediate = False )\n",
    "    auc_score = metrics.roc_auc_score( actual, probs )\n",
    "    plt.figure(figsize=(6, 4))\n",
    "    plt.plot( fpr, tpr, label='ROC curve (area = %0.2f)' % auc_score )\n",
    "    plt.plot([0, 1], [0, 1], 'k--')\n",
    "    plt.xlim([0.0, 1.0])\n",
    "    plt.ylim([0.0, 1.05])\n",
    "    plt.xlabel('False Positive Rate or [1 - True Negative Rate]')\n",
    "    plt.ylabel('True Positive Rate')\n",
    "    plt.title('Receiver operating characteristic example')\n",
    "    plt.legend(loc=\"lower right\")\n",
    "    plt.show()\n",
    "\n",
    "    return fpr, tpr, thresholds"
   ]
  },
  {
   "cell_type": "code",
   "execution_count": null,
   "metadata": {},
   "outputs": [],
   "source": []
  }
 ],
 "metadata": {
  "kernelspec": {
   "display_name": "Python 3",
   "language": "python",
   "name": "python3"
  },
  "language_info": {
   "codemirror_mode": {
    "name": "ipython",
    "version": 3
   },
   "file_extension": ".py",
   "mimetype": "text/x-python",
   "name": "python",
   "nbconvert_exporter": "python",
   "pygments_lexer": "ipython3",
   "version": "3.7.3"
  }
 },
 "nbformat": 4,
 "nbformat_minor": 2
}
